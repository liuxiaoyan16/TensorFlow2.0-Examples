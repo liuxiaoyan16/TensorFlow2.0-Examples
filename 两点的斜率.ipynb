{
  "nbformat": 4,
  "nbformat_minor": 0,
  "metadata": {
    "kernelspec": {
      "display_name": "Python 3",
      "language": "python",
      "name": "python3"
    },
    "language_info": {
      "codemirror_mode": {
        "name": "ipython",
        "version": 3
      },
      "file_extension": ".py",
      "mimetype": "text/x-python",
      "name": "python",
      "nbconvert_exporter": "python",
      "pygments_lexer": "ipython3",
      "version": "3.7.6"
    },
    "colab": {
      "name": "两点的斜率.ipynb",
      "provenance": [],
      "collapsed_sections": [],
      "include_colab_link": true
    },
    "accelerator": "GPU"
  },
  "cells": [
    {
      "cell_type": "markdown",
      "metadata": {
        "id": "view-in-github",
        "colab_type": "text"
      },
      "source": [
        "<a href=\"https://colab.research.google.com/github/liuxiaoyan16/TensorFlow2.0-Examples/blob/master/%E4%B8%A4%E7%82%B9%E7%9A%84%E6%96%9C%E7%8E%87.ipynb\" target=\"_parent\"><img src=\"https://colab.research.google.com/assets/colab-badge.svg\" alt=\"Open In Colab\"/></a>"
      ]
    },
    {
      "cell_type": "markdown",
      "metadata": {
        "id": "izlxvwKmr8R8",
        "colab_type": "text"
      },
      "source": [
        "/Users/liuxiaoyan/Desktop/data1\n",
        "\n",
        "*   列表项\n",
        "*   列表项\n",
        "\n"
      ]
    },
    {
      "cell_type": "code",
      "metadata": {
        "id": "M8dsYArxr8R9",
        "colab_type": "code",
        "colab": {}
      },
      "source": [
        "import tensorflow as tf\n",
        "import matplotlib.pyplot as plt\n",
        "%matplotlib inline\n",
        "import numpy as np\n",
        "import glob\n",
        "import os\n",
        "from tensorflow import keras\n",
        "from tensorflow.keras import layers\n",
        "from tensorflow.keras import models"
      ],
      "execution_count": null,
      "outputs": []
    },
    {
      "cell_type": "code",
      "metadata": {
        "id": "fO4uIcWUs8fV",
        "colab_type": "code",
        "colab": {
          "base_uri": "https://localhost:8080/",
          "height": 74
        },
        "outputId": "b5e52e99-e7b5-4998-fff0-2bfd6b464aa3"
      },
      "source": [
        "from google.colab import drive\n",
        "drive.mount('/content/drive')"
      ],
      "execution_count": null,
      "outputs": [
        {
          "output_type": "stream",
          "text": [
            "Drive already mounted at /content/drive; to attempt to forcibly remount, call drive.mount(\"/content/drive\", force_remount=True).\n"
          ],
          "name": "stdout"
        }
      ]
    },
    {
      "cell_type": "code",
      "metadata": {
        "id": "cAD3_ksTr8SC",
        "colab_type": "code",
        "colab": {}
      },
      "source": [
        "data_image_path=glob.glob('/content/drive/My Drive/data1/*.jpeg')"
      ],
      "execution_count": null,
      "outputs": []
    },
    {
      "cell_type": "code",
      "metadata": {
        "id": "xg1bhNDYthnW",
        "colab_type": "code",
        "colab": {}
      },
      "source": [
        "data_count=len(data_image_path)"
      ],
      "execution_count": null,
      "outputs": []
    },
    {
      "cell_type": "code",
      "metadata": {
        "id": "d5NFGuWrr8SH",
        "colab_type": "code",
        "colab": {
          "base_uri": "https://localhost:8080/",
          "height": 140
        },
        "outputId": "123ae0d0-6bef-46f4-b7a6-794e00d56c0a"
      },
      "source": [
        "data_image_path[-5:]"
      ],
      "execution_count": null,
      "outputs": [
        {
          "output_type": "execute_result",
          "data": {
            "text/plain": [
              "['/content/drive/My Drive/data1/4_1.jpeg',\n",
              " '/content/drive/My Drive/data1/3_0.jpeg',\n",
              " '/content/drive/My Drive/data1/2_1.jpeg',\n",
              " '/content/drive/My Drive/data1/20_1.jpeg',\n",
              " '/content/drive/My Drive/data1/19_1.jpeg']"
            ]
          },
          "metadata": {
            "tags": []
          },
          "execution_count": 5
        }
      ]
    },
    {
      "cell_type": "code",
      "metadata": {
        "id": "hJXAKGlor8SK",
        "colab_type": "code",
        "colab": {}
      },
      "source": [
        "data_image_label = [int(p.split('_',1)[-1] == '1.jpeg') for p in data_image_path]"
      ],
      "execution_count": null,
      "outputs": []
    },
    {
      "cell_type": "code",
      "metadata": {
        "id": "9PoVyuW6r8SM",
        "colab_type": "code",
        "colab": {
          "base_uri": "https://localhost:8080/",
          "height": 74
        },
        "outputId": "395c5092-06ba-440f-c512-a4d02da4da37"
      },
      "source": [
        "data_image_label[-5:]"
      ],
      "execution_count": null,
      "outputs": [
        {
          "output_type": "execute_result",
          "data": {
            "text/plain": [
              "[1, 0, 1, 1, 1]"
            ]
          },
          "metadata": {
            "tags": []
          },
          "execution_count": 7
        }
      ]
    },
    {
      "cell_type": "code",
      "metadata": {
        "id": "l1-Yy7pmr8SO",
        "colab_type": "code",
        "colab": {
          "base_uri": "https://localhost:8080/",
          "height": 74
        },
        "outputId": "2bd9b57e-c5e0-430a-8887-bfa4b09ab8d3"
      },
      "source": [
        "data_image_label[ :5]"
      ],
      "execution_count": null,
      "outputs": [
        {
          "output_type": "execute_result",
          "data": {
            "text/plain": [
              "[1, 0, 1, 0, 1]"
            ]
          },
          "metadata": {
            "tags": []
          },
          "execution_count": 8
        }
      ]
    },
    {
      "cell_type": "code",
      "metadata": {
        "id": "LPSmLp5gr8SR",
        "colab_type": "code",
        "colab": {
          "base_uri": "https://localhost:8080/",
          "height": 74
        },
        "outputId": "955153e0-b0a9-4146-e6b7-2fd5d328f4e7"
      },
      "source": [
        "data_image_label.count(0)"
      ],
      "execution_count": null,
      "outputs": [
        {
          "output_type": "execute_result",
          "data": {
            "text/plain": [
              "986"
            ]
          },
          "metadata": {
            "tags": []
          },
          "execution_count": 9
        }
      ]
    },
    {
      "cell_type": "code",
      "metadata": {
        "id": "-q0VPkNWr8SS",
        "colab_type": "code",
        "colab": {
          "base_uri": "https://localhost:8080/",
          "height": 74
        },
        "outputId": "273eade1-ce8d-4c18-e55b-1eb3110f5778"
      },
      "source": [
        "data_image_label.count(1)"
      ],
      "execution_count": null,
      "outputs": [
        {
          "output_type": "execute_result",
          "data": {
            "text/plain": [
              "1024"
            ]
          },
          "metadata": {
            "tags": []
          },
          "execution_count": 10
        }
      ]
    },
    {
      "cell_type": "code",
      "metadata": {
        "id": "dCq1l4oDr8SV",
        "colab_type": "code",
        "colab": {}
      },
      "source": [
        "data_image_label=tf.cast(data_image_label,tf.int64)"
      ],
      "execution_count": null,
      "outputs": []
    },
    {
      "cell_type": "code",
      "metadata": {
        "id": "EuNBEPETQiZ3",
        "colab_type": "code",
        "colab": {}
      },
      "source": [
        "data_image_label= tf.data.Dataset.from_tensor_slices(data_image_label)"
      ],
      "execution_count": null,
      "outputs": []
    },
    {
      "cell_type": "code",
      "metadata": {
        "id": "COBeygG8Rcon",
        "colab_type": "code",
        "colab": {}
      },
      "source": [
        "data_image= tf.data.Dataset.from_tensor_slices(data_image_path)"
      ],
      "execution_count": null,
      "outputs": []
    },
    {
      "cell_type": "code",
      "metadata": {
        "id": "uz9tNuKTr8Sb",
        "colab_type": "code",
        "colab": {}
      },
      "source": [
        "def load_and_preprocess_image(path):\n",
        "    image = tf.io.read_file(path)\n",
        "    image = tf.image.decode_jpeg(image, channels=1)\n",
        "    image = tf.image.resize(image, [64, 64])\n",
        "    image = tf.cast(image, tf.float32)\n",
        "    image = image/255.0  # normalize to [0,1] range\n",
        "    return image"
      ],
      "execution_count": null,
      "outputs": []
    },
    {
      "cell_type": "code",
      "metadata": {
        "id": "oaRp7Z9Mr8Sd",
        "colab_type": "code",
        "colab": {}
      },
      "source": [
        "data_image = data_image.map(load_and_preprocess_image) "
      ],
      "execution_count": null,
      "outputs": []
    },
    {
      "cell_type": "code",
      "metadata": {
        "id": "yH_pbM6rr8Sf",
        "colab_type": "code",
        "colab": {}
      },
      "source": [
        "dataset=tf.data.Dataset.zip((data_image,data_image_label))"
      ],
      "execution_count": null,
      "outputs": []
    },
    {
      "cell_type": "code",
      "metadata": {
        "id": "LeRvuI4dj3PP",
        "colab_type": "code",
        "colab": {
          "base_uri": "https://localhost:8080/",
          "height": 74
        },
        "outputId": "7458182e-3dc7-4c55-e8cb-972847f2225e"
      },
      "source": [
        "data_image"
      ],
      "execution_count": null,
      "outputs": [
        {
          "output_type": "execute_result",
          "data": {
            "text/plain": [
              "<MapDataset shapes: (64, 64, 1), types: tf.float32>"
            ]
          },
          "metadata": {
            "tags": []
          },
          "execution_count": 17
        }
      ]
    },
    {
      "cell_type": "code",
      "metadata": {
        "id": "huPcV_iwPQdW",
        "colab_type": "code",
        "colab": {
          "base_uri": "https://localhost:8080/",
          "height": 74
        },
        "outputId": "fb6831c7-08cc-4fd5-8971-753f59d403a6"
      },
      "source": [
        "dataset"
      ],
      "execution_count": null,
      "outputs": [
        {
          "output_type": "execute_result",
          "data": {
            "text/plain": [
              "<ZipDataset shapes: ((64, 64, 1), ()), types: (tf.float32, tf.int64)>"
            ]
          },
          "metadata": {
            "tags": []
          },
          "execution_count": 18
        }
      ]
    },
    {
      "cell_type": "code",
      "metadata": {
        "id": "mvnZd4o9rQW2",
        "colab_type": "code",
        "colab": {}
      },
      "source": [
        "dataset=dataset.shuffle(2000)"
      ],
      "execution_count": null,
      "outputs": []
    },
    {
      "cell_type": "code",
      "metadata": {
        "id": "ORaxKiWIr8Sg",
        "colab_type": "code",
        "colab": {}
      },
      "source": [
        "test_count=int(data_count*0.2)\n",
        "train_count=data_count-test_count"
      ],
      "execution_count": null,
      "outputs": []
    },
    {
      "cell_type": "code",
      "metadata": {
        "id": "3Fzon65Vr8Sh",
        "colab_type": "code",
        "colab": {}
      },
      "source": [
        "train_data = dataset.skip(test_count)\n",
        "\n",
        "test_data = dataset.take(test_count)"
      ],
      "execution_count": null,
      "outputs": []
    },
    {
      "cell_type": "code",
      "metadata": {
        "id": "sBztbz9xr8Si",
        "colab_type": "code",
        "colab": {
          "base_uri": "https://localhost:8080/",
          "height": 74
        },
        "outputId": "2bb5dbf8-dc35-46b6-be47-eb5ecf395bc5"
      },
      "source": [
        "train_data"
      ],
      "execution_count": null,
      "outputs": [
        {
          "output_type": "execute_result",
          "data": {
            "text/plain": [
              "<SkipDataset shapes: ((64, 64, 1), ()), types: (tf.float32, tf.int64)>"
            ]
          },
          "metadata": {
            "tags": []
          },
          "execution_count": 22
        }
      ]
    },
    {
      "cell_type": "code",
      "metadata": {
        "id": "o8XuHw-er8Sj",
        "colab_type": "code",
        "colab": {}
      },
      "source": [
        "BATCH_SIZE = 32"
      ],
      "execution_count": null,
      "outputs": []
    },
    {
      "cell_type": "code",
      "metadata": {
        "id": "fUWQcjosr8Sk",
        "colab_type": "code",
        "colab": {}
      },
      "source": [
        "train_data= train_data.repeat().shuffle(train_count).batch(BATCH_SIZE)"
      ],
      "execution_count": null,
      "outputs": []
    },
    {
      "cell_type": "code",
      "metadata": {
        "id": "jKEmPwB4r8Sl",
        "colab_type": "code",
        "colab": {
          "base_uri": "https://localhost:8080/",
          "height": 74
        },
        "outputId": "369d2435-4958-47c5-812e-d3ba2c7847aa"
      },
      "source": [
        "train_data"
      ],
      "execution_count": null,
      "outputs": [
        {
          "output_type": "execute_result",
          "data": {
            "text/plain": [
              "<BatchDataset shapes: ((None, 64, 64, 1), (None,)), types: (tf.float32, tf.int64)>"
            ]
          },
          "metadata": {
            "tags": []
          },
          "execution_count": 25
        }
      ]
    },
    {
      "cell_type": "code",
      "metadata": {
        "id": "3ZXBHIpQOdsB",
        "colab_type": "code",
        "colab": {}
      },
      "source": [
        "a=train_data.take(1)"
      ],
      "execution_count": null,
      "outputs": []
    },
    {
      "cell_type": "code",
      "metadata": {
        "id": "YiUAQqker8Sm",
        "colab_type": "code",
        "colab": {}
      },
      "source": [
        "test_data = test_data.batch(BATCH_SIZE)"
      ],
      "execution_count": null,
      "outputs": []
    },
    {
      "cell_type": "code",
      "metadata": {
        "id": "icu41WIar8Sn",
        "colab_type": "code",
        "colab": {}
      },
      "source": [
        "model = tf.keras.Sequential([\n",
        "    tf.keras.layers.Conv2D(4, [3,3], activation='relu', padding='same',input_shape=(64, 64, 1)),\n",
        "    tf.keras.layers.MaxPooling2D((2,2)),\n",
        "    tf.keras.layers.Conv2D(8, [3,3],padding='same', activation='relu'),\n",
        "    tf.keras.layers.MaxPooling2D((2,2)),\n",
        "    tf.keras.layers.Conv2D(16, [3,3],padding='same', activation='relu'),\n",
        "    tf.keras.layers.MaxPooling2D(),\n",
        "    tf.keras.layers.Conv2D(32, [3,3], padding='same',activation='relu'),\n",
        "    tf.keras.layers.MaxPooling2D((2,2)),\n",
        "    tf.keras.layers.Conv2D(64, [3,3], padding='same',activation='relu'),\n",
        "    tf.keras.layers.MaxPooling2D((2,2)),\n",
        "    tf.keras.layers.Flatten(),\n",
        "    tf.keras.layers.Dense(1,activation='sigmoid')\n",
        "])"
      ],
      "execution_count": null,
      "outputs": []
    },
    {
      "cell_type": "code",
      "metadata": {
        "id": "5f5w9yM2r8So",
        "colab_type": "code",
        "colab": {
          "base_uri": "https://localhost:8080/",
          "height": 586
        },
        "outputId": "c3a27ed0-ab80-4bb8-c17d-406d9ec76970"
      },
      "source": [
        "model.summary()"
      ],
      "execution_count": null,
      "outputs": [
        {
          "output_type": "stream",
          "text": [
            "Model: \"sequential\"\n",
            "_________________________________________________________________\n",
            "Layer (type)                 Output Shape              Param #   \n",
            "=================================================================\n",
            "conv2d (Conv2D)              (None, 64, 64, 4)         40        \n",
            "_________________________________________________________________\n",
            "max_pooling2d (MaxPooling2D) (None, 32, 32, 4)         0         \n",
            "_________________________________________________________________\n",
            "conv2d_1 (Conv2D)            (None, 32, 32, 8)         296       \n",
            "_________________________________________________________________\n",
            "max_pooling2d_1 (MaxPooling2 (None, 16, 16, 8)         0         \n",
            "_________________________________________________________________\n",
            "conv2d_2 (Conv2D)            (None, 16, 16, 16)        1168      \n",
            "_________________________________________________________________\n",
            "max_pooling2d_2 (MaxPooling2 (None, 8, 8, 16)          0         \n",
            "_________________________________________________________________\n",
            "conv2d_3 (Conv2D)            (None, 8, 8, 32)          4640      \n",
            "_________________________________________________________________\n",
            "max_pooling2d_3 (MaxPooling2 (None, 4, 4, 32)          0         \n",
            "_________________________________________________________________\n",
            "conv2d_4 (Conv2D)            (None, 4, 4, 64)          18496     \n",
            "_________________________________________________________________\n",
            "max_pooling2d_4 (MaxPooling2 (None, 2, 2, 64)          0         \n",
            "_________________________________________________________________\n",
            "flatten (Flatten)            (None, 256)               0         \n",
            "_________________________________________________________________\n",
            "dense (Dense)                (None, 1)                 257       \n",
            "=================================================================\n",
            "Total params: 24,897\n",
            "Trainable params: 24,897\n",
            "Non-trainable params: 0\n",
            "_________________________________________________________________\n"
          ],
          "name": "stdout"
        }
      ]
    },
    {
      "cell_type": "code",
      "metadata": {
        "id": "cnBEL5ipILM4",
        "colab_type": "code",
        "colab": {}
      },
      "source": [
        "epochs=100\n",
        "learning_rate = 0.0001\n",
        "decay_rate = learning_rate / epochs\n",
        "\n",
        "sgd = tf.optimizers.Adam(lr=learning_rate, decay=decay_rate,)"
      ],
      "execution_count": null,
      "outputs": []
    },
    {
      "cell_type": "code",
      "metadata": {
        "id": "MJE8AuRIr8Sp",
        "colab_type": "code",
        "colab": {}
      },
      "source": [
        "model.compile(optimizer=sgd,\n",
        "              loss='binary_crossentropy',\n",
        "              metrics=['acc']\n",
        ")"
      ],
      "execution_count": null,
      "outputs": []
    },
    {
      "cell_type": "code",
      "metadata": {
        "id": "HKLmvuLhr8Sp",
        "colab_type": "code",
        "colab": {
          "base_uri": "https://localhost:8080/",
          "height": 1000
        },
        "outputId": "845a6bf3-56e4-4e9b-fe42-c201850d8aff"
      },
      "source": [
        "model.fit(train_data,  epochs=100, steps_per_epoch=train_count//BATCH_SIZE, validation_data=test_data, validation_steps=test_count//BATCH_SIZE)"
      ],
      "execution_count": null,
      "outputs": [
        {
          "output_type": "stream",
          "text": [
            "Epoch 1/100\n",
            "50/50 [==============================] - 2s 47ms/step - loss: 0.6930 - acc: 0.5094 - val_loss: 0.6917 - val_acc: 0.6745\n",
            "Epoch 2/100\n",
            "50/50 [==============================] - 2s 43ms/step - loss: 0.6905 - acc: 0.6012 - val_loss: 0.6880 - val_acc: 0.5885\n",
            "Epoch 3/100\n",
            "50/50 [==============================] - 2s 43ms/step - loss: 0.6871 - acc: 0.6275 - val_loss: 0.6833 - val_acc: 0.7266\n",
            "Epoch 4/100\n",
            "50/50 [==============================] - 2s 43ms/step - loss: 0.6782 - acc: 0.7056 - val_loss: 0.6706 - val_acc: 0.6328\n",
            "Epoch 5/100\n",
            "50/50 [==============================] - 4s 81ms/step - loss: 0.6568 - acc: 0.7381 - val_loss: 0.6452 - val_acc: 0.7188\n",
            "Epoch 6/100\n",
            "50/50 [==============================] - 4s 80ms/step - loss: 0.6198 - acc: 0.7312 - val_loss: 0.6000 - val_acc: 0.7292\n",
            "Epoch 7/100\n",
            "50/50 [==============================] - 4s 79ms/step - loss: 0.5598 - acc: 0.7713 - val_loss: 0.5234 - val_acc: 0.7630\n",
            "Epoch 8/100\n",
            "50/50 [==============================] - 4s 79ms/step - loss: 0.5238 - acc: 0.7681 - val_loss: 0.4639 - val_acc: 0.8255\n",
            "Epoch 9/100\n",
            "50/50 [==============================] - 4s 80ms/step - loss: 0.4783 - acc: 0.8019 - val_loss: 0.4433 - val_acc: 0.8359\n",
            "Epoch 10/100\n",
            "50/50 [==============================] - 4s 80ms/step - loss: 0.4608 - acc: 0.8163 - val_loss: 0.4323 - val_acc: 0.8307\n",
            "Epoch 11/100\n",
            "50/50 [==============================] - 4s 88ms/step - loss: 0.4208 - acc: 0.8275 - val_loss: 0.3863 - val_acc: 0.8385\n",
            "Epoch 12/100\n",
            "50/50 [==============================] - 4s 90ms/step - loss: 0.3889 - acc: 0.8431 - val_loss: 0.3746 - val_acc: 0.8542\n",
            "Epoch 13/100\n",
            "50/50 [==============================] - 4s 84ms/step - loss: 0.3570 - acc: 0.8706 - val_loss: 0.3635 - val_acc: 0.8359\n",
            "Epoch 14/100\n",
            "50/50 [==============================] - 4s 80ms/step - loss: 0.3149 - acc: 0.8813 - val_loss: 0.3170 - val_acc: 0.8698\n",
            "Epoch 15/100\n",
            "50/50 [==============================] - 4s 80ms/step - loss: 0.2941 - acc: 0.8944 - val_loss: 0.2485 - val_acc: 0.9271\n",
            "Epoch 16/100\n",
            "50/50 [==============================] - 4s 80ms/step - loss: 0.2724 - acc: 0.9013 - val_loss: 0.2548 - val_acc: 0.9167\n",
            "Epoch 17/100\n",
            "50/50 [==============================] - 4s 80ms/step - loss: 0.2625 - acc: 0.8981 - val_loss: 0.2415 - val_acc: 0.9167\n",
            "Epoch 18/100\n",
            "50/50 [==============================] - 4s 80ms/step - loss: 0.2346 - acc: 0.9169 - val_loss: 0.2148 - val_acc: 0.9193\n",
            "Epoch 19/100\n",
            "50/50 [==============================] - 4s 79ms/step - loss: 0.2022 - acc: 0.9381 - val_loss: 0.2304 - val_acc: 0.9115\n",
            "Epoch 20/100\n",
            "50/50 [==============================] - 4s 81ms/step - loss: 0.2029 - acc: 0.9294 - val_loss: 0.1926 - val_acc: 0.9193\n",
            "Epoch 21/100\n",
            "50/50 [==============================] - 4s 83ms/step - loss: 0.1950 - acc: 0.9344 - val_loss: 0.1892 - val_acc: 0.9245\n",
            "Epoch 22/100\n",
            "50/50 [==============================] - 4s 83ms/step - loss: 0.1876 - acc: 0.9250 - val_loss: 0.1391 - val_acc: 0.9583\n",
            "Epoch 23/100\n",
            "50/50 [==============================] - 4s 81ms/step - loss: 0.1674 - acc: 0.9394 - val_loss: 0.1720 - val_acc: 0.9427\n",
            "Epoch 24/100\n",
            "50/50 [==============================] - 4s 81ms/step - loss: 0.1779 - acc: 0.9262 - val_loss: 0.1529 - val_acc: 0.9453\n",
            "Epoch 25/100\n",
            "50/50 [==============================] - 4s 80ms/step - loss: 0.1649 - acc: 0.9362 - val_loss: 0.1444 - val_acc: 0.9375\n",
            "Epoch 26/100\n",
            "50/50 [==============================] - 4s 80ms/step - loss: 0.1628 - acc: 0.9300 - val_loss: 0.1533 - val_acc: 0.9453\n",
            "Epoch 27/100\n",
            "50/50 [==============================] - 4s 80ms/step - loss: 0.1483 - acc: 0.9506 - val_loss: 0.1354 - val_acc: 0.9557\n",
            "Epoch 28/100\n",
            "50/50 [==============================] - 4s 81ms/step - loss: 0.1383 - acc: 0.9525 - val_loss: 0.1339 - val_acc: 0.9401\n",
            "Epoch 29/100\n",
            "50/50 [==============================] - 4s 80ms/step - loss: 0.1340 - acc: 0.9519 - val_loss: 0.1404 - val_acc: 0.9635\n",
            "Epoch 30/100\n",
            "50/50 [==============================] - 4s 79ms/step - loss: 0.1305 - acc: 0.9513 - val_loss: 0.1125 - val_acc: 0.9583\n",
            "Epoch 31/100\n",
            "50/50 [==============================] - 4s 80ms/step - loss: 0.1405 - acc: 0.9419 - val_loss: 0.1193 - val_acc: 0.9635\n",
            "Epoch 32/100\n",
            "50/50 [==============================] - 4s 80ms/step - loss: 0.1244 - acc: 0.9481 - val_loss: 0.1282 - val_acc: 0.9479\n",
            "Epoch 33/100\n",
            "50/50 [==============================] - 4s 80ms/step - loss: 0.1150 - acc: 0.9594 - val_loss: 0.1379 - val_acc: 0.9401\n",
            "Epoch 34/100\n",
            "50/50 [==============================] - 4s 80ms/step - loss: 0.1220 - acc: 0.9469 - val_loss: 0.1086 - val_acc: 0.9583\n",
            "Epoch 35/100\n",
            "50/50 [==============================] - 4s 79ms/step - loss: 0.1081 - acc: 0.9656 - val_loss: 0.1058 - val_acc: 0.9583\n",
            "Epoch 36/100\n",
            "50/50 [==============================] - 4s 79ms/step - loss: 0.1074 - acc: 0.9644 - val_loss: 0.1017 - val_acc: 0.9661\n",
            "Epoch 37/100\n",
            "50/50 [==============================] - 4s 79ms/step - loss: 0.1058 - acc: 0.9563 - val_loss: 0.0974 - val_acc: 0.9688\n",
            "Epoch 38/100\n",
            "50/50 [==============================] - 4s 79ms/step - loss: 0.0982 - acc: 0.9625 - val_loss: 0.1126 - val_acc: 0.9583\n",
            "Epoch 39/100\n",
            "50/50 [==============================] - 4s 80ms/step - loss: 0.1089 - acc: 0.9644 - val_loss: 0.0801 - val_acc: 0.9661\n",
            "Epoch 40/100\n",
            "50/50 [==============================] - 4s 80ms/step - loss: 0.0971 - acc: 0.9644 - val_loss: 0.0793 - val_acc: 0.9661\n",
            "Epoch 41/100\n",
            "50/50 [==============================] - 4s 80ms/step - loss: 0.0834 - acc: 0.9731 - val_loss: 0.0767 - val_acc: 0.9792\n",
            "Epoch 42/100\n",
            "50/50 [==============================] - 4s 80ms/step - loss: 0.0976 - acc: 0.9625 - val_loss: 0.0819 - val_acc: 0.9714\n",
            "Epoch 43/100\n",
            "50/50 [==============================] - 4s 81ms/step - loss: 0.0823 - acc: 0.9737 - val_loss: 0.0810 - val_acc: 0.9740\n",
            "Epoch 44/100\n",
            "50/50 [==============================] - 4s 82ms/step - loss: 0.0987 - acc: 0.9656 - val_loss: 0.0841 - val_acc: 0.9792\n",
            "Epoch 45/100\n",
            "50/50 [==============================] - 4s 81ms/step - loss: 0.0780 - acc: 0.9731 - val_loss: 0.0842 - val_acc: 0.9740\n",
            "Epoch 46/100\n",
            "50/50 [==============================] - 4s 81ms/step - loss: 0.0983 - acc: 0.9619 - val_loss: 0.0684 - val_acc: 0.9844\n",
            "Epoch 47/100\n",
            "50/50 [==============================] - 4s 79ms/step - loss: 0.0843 - acc: 0.9712 - val_loss: 0.0682 - val_acc: 0.9922\n",
            "Epoch 48/100\n",
            "50/50 [==============================] - 4s 80ms/step - loss: 0.0806 - acc: 0.9675 - val_loss: 0.1045 - val_acc: 0.9661\n",
            "Epoch 49/100\n",
            "50/50 [==============================] - 4s 80ms/step - loss: 0.0944 - acc: 0.9588 - val_loss: 0.0714 - val_acc: 0.9818\n",
            "Epoch 50/100\n",
            "50/50 [==============================] - 4s 79ms/step - loss: 0.0780 - acc: 0.9737 - val_loss: 0.0972 - val_acc: 0.9609\n",
            "Epoch 51/100\n",
            "50/50 [==============================] - 4s 80ms/step - loss: 0.0785 - acc: 0.9731 - val_loss: 0.0639 - val_acc: 0.9818\n",
            "Epoch 52/100\n",
            "50/50 [==============================] - 4s 80ms/step - loss: 0.0770 - acc: 0.9688 - val_loss: 0.0833 - val_acc: 0.9688\n",
            "Epoch 53/100\n",
            "50/50 [==============================] - 4s 80ms/step - loss: 0.0838 - acc: 0.9694 - val_loss: 0.0910 - val_acc: 0.9609\n",
            "Epoch 54/100\n",
            "50/50 [==============================] - 4s 80ms/step - loss: 0.0643 - acc: 0.9769 - val_loss: 0.0568 - val_acc: 0.9792\n",
            "Epoch 55/100\n",
            "50/50 [==============================] - 4s 81ms/step - loss: 0.0791 - acc: 0.9731 - val_loss: 0.0668 - val_acc: 0.9740\n",
            "Epoch 56/100\n",
            "50/50 [==============================] - 4s 79ms/step - loss: 0.0749 - acc: 0.9737 - val_loss: 0.0667 - val_acc: 0.9688\n",
            "Epoch 57/100\n",
            "50/50 [==============================] - 4s 79ms/step - loss: 0.0669 - acc: 0.9800 - val_loss: 0.0657 - val_acc: 0.9688\n",
            "Epoch 58/100\n",
            "50/50 [==============================] - 4s 79ms/step - loss: 0.0673 - acc: 0.9681 - val_loss: 0.1078 - val_acc: 0.9505\n",
            "Epoch 59/100\n",
            "50/50 [==============================] - 4s 80ms/step - loss: 0.0684 - acc: 0.9750 - val_loss: 0.0580 - val_acc: 0.9792\n",
            "Epoch 60/100\n",
            "50/50 [==============================] - 4s 81ms/step - loss: 0.0664 - acc: 0.9756 - val_loss: 0.0494 - val_acc: 0.9844\n",
            "Epoch 61/100\n",
            "50/50 [==============================] - 4s 81ms/step - loss: 0.0689 - acc: 0.9744 - val_loss: 0.0524 - val_acc: 0.9870\n",
            "Epoch 62/100\n",
            "50/50 [==============================] - 4s 80ms/step - loss: 0.0640 - acc: 0.9825 - val_loss: 0.0646 - val_acc: 0.9766\n",
            "Epoch 63/100\n",
            "50/50 [==============================] - 4s 81ms/step - loss: 0.0533 - acc: 0.9831 - val_loss: 0.0453 - val_acc: 0.9922\n",
            "Epoch 64/100\n",
            "50/50 [==============================] - 4s 82ms/step - loss: 0.0655 - acc: 0.9769 - val_loss: 0.0638 - val_acc: 0.9818\n",
            "Epoch 65/100\n",
            "50/50 [==============================] - 4s 81ms/step - loss: 0.0523 - acc: 0.9812 - val_loss: 0.0511 - val_acc: 0.9844\n",
            "Epoch 66/100\n",
            "50/50 [==============================] - 4s 80ms/step - loss: 0.0573 - acc: 0.9794 - val_loss: 0.0635 - val_acc: 0.9740\n",
            "Epoch 67/100\n",
            "50/50 [==============================] - 4s 80ms/step - loss: 0.0613 - acc: 0.9794 - val_loss: 0.0626 - val_acc: 0.9740\n",
            "Epoch 68/100\n",
            "50/50 [==============================] - 4s 79ms/step - loss: 0.0657 - acc: 0.9775 - val_loss: 0.0388 - val_acc: 0.9870\n",
            "Epoch 69/100\n",
            "50/50 [==============================] - 4s 80ms/step - loss: 0.0676 - acc: 0.9794 - val_loss: 0.0667 - val_acc: 0.9740\n",
            "Epoch 70/100\n",
            "50/50 [==============================] - 4s 79ms/step - loss: 0.0509 - acc: 0.9825 - val_loss: 0.0487 - val_acc: 0.9818\n",
            "Epoch 71/100\n",
            "50/50 [==============================] - 4s 80ms/step - loss: 0.0526 - acc: 0.9819 - val_loss: 0.0386 - val_acc: 0.9922\n",
            "Epoch 72/100\n",
            "50/50 [==============================] - 4s 80ms/step - loss: 0.0626 - acc: 0.9787 - val_loss: 0.0633 - val_acc: 0.9818\n",
            "Epoch 73/100\n",
            "50/50 [==============================] - 4s 81ms/step - loss: 0.0491 - acc: 0.9837 - val_loss: 0.0538 - val_acc: 0.9740\n",
            "Epoch 74/100\n",
            "50/50 [==============================] - 4s 80ms/step - loss: 0.0698 - acc: 0.9737 - val_loss: 0.0563 - val_acc: 0.9818\n",
            "Epoch 75/100\n",
            "50/50 [==============================] - 4s 80ms/step - loss: 0.0551 - acc: 0.9775 - val_loss: 0.0540 - val_acc: 0.9818\n",
            "Epoch 76/100\n",
            "50/50 [==============================] - 4s 81ms/step - loss: 0.0621 - acc: 0.9794 - val_loss: 0.0368 - val_acc: 0.9922\n",
            "Epoch 77/100\n",
            "50/50 [==============================] - 4s 80ms/step - loss: 0.0555 - acc: 0.9769 - val_loss: 0.0433 - val_acc: 0.9896\n",
            "Epoch 78/100\n",
            "50/50 [==============================] - 4s 80ms/step - loss: 0.0484 - acc: 0.9819 - val_loss: 0.0553 - val_acc: 0.9818\n",
            "Epoch 79/100\n",
            "50/50 [==============================] - 4s 82ms/step - loss: 0.0571 - acc: 0.9775 - val_loss: 0.0552 - val_acc: 0.9688\n",
            "Epoch 80/100\n",
            "50/50 [==============================] - 4s 80ms/step - loss: 0.0477 - acc: 0.9831 - val_loss: 0.0424 - val_acc: 0.9844\n",
            "Epoch 81/100\n",
            "50/50 [==============================] - 4s 80ms/step - loss: 0.0477 - acc: 0.9862 - val_loss: 0.0487 - val_acc: 0.9844\n",
            "Epoch 82/100\n",
            "50/50 [==============================] - 4s 80ms/step - loss: 0.0530 - acc: 0.9800 - val_loss: 0.0463 - val_acc: 0.9792\n",
            "Epoch 83/100\n",
            "50/50 [==============================] - 4s 81ms/step - loss: 0.0480 - acc: 0.9875 - val_loss: 0.0352 - val_acc: 0.9922\n",
            "Epoch 84/100\n",
            "50/50 [==============================] - 4s 81ms/step - loss: 0.0523 - acc: 0.9806 - val_loss: 0.0387 - val_acc: 0.9896\n",
            "Epoch 85/100\n",
            "50/50 [==============================] - 4s 80ms/step - loss: 0.0513 - acc: 0.9831 - val_loss: 0.0378 - val_acc: 0.9896\n",
            "Epoch 86/100\n",
            "50/50 [==============================] - 4s 80ms/step - loss: 0.0478 - acc: 0.9837 - val_loss: 0.0446 - val_acc: 0.9922\n",
            "Epoch 87/100\n",
            "50/50 [==============================] - 4s 80ms/step - loss: 0.0492 - acc: 0.9794 - val_loss: 0.0406 - val_acc: 0.9870\n",
            "Epoch 88/100\n",
            "50/50 [==============================] - 4s 89ms/step - loss: 0.0463 - acc: 0.9812 - val_loss: 0.0335 - val_acc: 0.9896\n",
            "Epoch 89/100\n",
            "50/50 [==============================] - 5s 90ms/step - loss: 0.0545 - acc: 0.9825 - val_loss: 0.0435 - val_acc: 0.9870\n",
            "Epoch 90/100\n",
            "50/50 [==============================] - 4s 87ms/step - loss: 0.0387 - acc: 0.9900 - val_loss: 0.0363 - val_acc: 0.9948\n",
            "Epoch 91/100\n",
            "50/50 [==============================] - 4s 82ms/step - loss: 0.0451 - acc: 0.9837 - val_loss: 0.0308 - val_acc: 0.9922\n",
            "Epoch 92/100\n",
            "50/50 [==============================] - 4s 83ms/step - loss: 0.0388 - acc: 0.9856 - val_loss: 0.0677 - val_acc: 0.9766\n",
            "Epoch 93/100\n",
            "50/50 [==============================] - 4s 82ms/step - loss: 0.0472 - acc: 0.9825 - val_loss: 0.0366 - val_acc: 0.9896\n",
            "Epoch 94/100\n",
            "50/50 [==============================] - 4s 82ms/step - loss: 0.0394 - acc: 0.9862 - val_loss: 0.0309 - val_acc: 1.0000\n",
            "Epoch 95/100\n",
            "50/50 [==============================] - 4s 81ms/step - loss: 0.0405 - acc: 0.9862 - val_loss: 0.0336 - val_acc: 0.9922\n",
            "Epoch 96/100\n",
            "50/50 [==============================] - 4s 82ms/step - loss: 0.0508 - acc: 0.9787 - val_loss: 0.0656 - val_acc: 0.9818\n",
            "Epoch 97/100\n",
            "50/50 [==============================] - 4s 86ms/step - loss: 0.0567 - acc: 0.9769 - val_loss: 0.0581 - val_acc: 0.9766\n",
            "Epoch 98/100\n",
            "50/50 [==============================] - 4s 82ms/step - loss: 0.0389 - acc: 0.9887 - val_loss: 0.0342 - val_acc: 0.9922\n",
            "Epoch 99/100\n",
            "50/50 [==============================] - 4s 81ms/step - loss: 0.0393 - acc: 0.9869 - val_loss: 0.0334 - val_acc: 0.9870\n",
            "Epoch 100/100\n",
            "50/50 [==============================] - 4s 82ms/step - loss: 0.0366 - acc: 0.9856 - val_loss: 0.0223 - val_acc: 0.9948\n"
          ],
          "name": "stdout"
        },
        {
          "output_type": "execute_result",
          "data": {
            "text/plain": [
              "<tensorflow.python.keras.callbacks.History at 0x7f9340219e48>"
            ]
          },
          "metadata": {
            "tags": []
          },
          "execution_count": 32
        }
      ]
    },
    {
      "cell_type": "code",
      "metadata": {
        "id": "CP9osjT9r8SX",
        "colab_type": "code",
        "colab": {
          "base_uri": "https://localhost:8080/",
          "height": 674
        },
        "outputId": "d8e967c4-f29f-40ea-f958-92cf3e4b061d"
      },
      "source": [
        "image_path=data_image_path[2]\n",
        "image = tf.io.read_file(image_path)\n",
        "image = tf.image.decode_jpeg(image, channels=1)\n",
        "image = tf.image.resize(image, [64, 64])\n",
        "image = tf.cast(image, tf.float32)\n",
        "image = image/255.0\n",
        "plt.imshow(image_path)"
      ],
      "execution_count": null,
      "outputs": [
        {
          "output_type": "error",
          "ename": "TypeError",
          "evalue": "ignored",
          "traceback": [
            "\u001b[0;31m---------------------------------------------------------------------------\u001b[0m",
            "\u001b[0;31mTypeError\u001b[0m                                 Traceback (most recent call last)",
            "\u001b[0;32m<ipython-input-33-fd22cc002a9d>\u001b[0m in \u001b[0;36m<module>\u001b[0;34m()\u001b[0m\n\u001b[1;32m      5\u001b[0m \u001b[0mimage\u001b[0m \u001b[0;34m=\u001b[0m \u001b[0mtf\u001b[0m\u001b[0;34m.\u001b[0m\u001b[0mcast\u001b[0m\u001b[0;34m(\u001b[0m\u001b[0mimage\u001b[0m\u001b[0;34m,\u001b[0m \u001b[0mtf\u001b[0m\u001b[0;34m.\u001b[0m\u001b[0mfloat32\u001b[0m\u001b[0;34m)\u001b[0m\u001b[0;34m\u001b[0m\u001b[0;34m\u001b[0m\u001b[0m\n\u001b[1;32m      6\u001b[0m \u001b[0mimage\u001b[0m \u001b[0;34m=\u001b[0m \u001b[0mimage\u001b[0m\u001b[0;34m/\u001b[0m\u001b[0;36m255.0\u001b[0m\u001b[0;34m\u001b[0m\u001b[0;34m\u001b[0m\u001b[0m\n\u001b[0;32m----> 7\u001b[0;31m \u001b[0mplt\u001b[0m\u001b[0;34m.\u001b[0m\u001b[0mimshow\u001b[0m\u001b[0;34m(\u001b[0m\u001b[0mimage_path\u001b[0m\u001b[0;34m)\u001b[0m\u001b[0;34m\u001b[0m\u001b[0;34m\u001b[0m\u001b[0m\n\u001b[0m",
            "\u001b[0;32m/usr/local/lib/python3.6/dist-packages/matplotlib/pyplot.py\u001b[0m in \u001b[0;36mimshow\u001b[0;34m(X, cmap, norm, aspect, interpolation, alpha, vmin, vmax, origin, extent, shape, filternorm, filterrad, imlim, resample, url, data, **kwargs)\u001b[0m\n\u001b[1;32m   2649\u001b[0m         \u001b[0mfilternorm\u001b[0m\u001b[0;34m=\u001b[0m\u001b[0mfilternorm\u001b[0m\u001b[0;34m,\u001b[0m \u001b[0mfilterrad\u001b[0m\u001b[0;34m=\u001b[0m\u001b[0mfilterrad\u001b[0m\u001b[0;34m,\u001b[0m \u001b[0mimlim\u001b[0m\u001b[0;34m=\u001b[0m\u001b[0mimlim\u001b[0m\u001b[0;34m,\u001b[0m\u001b[0;34m\u001b[0m\u001b[0;34m\u001b[0m\u001b[0m\n\u001b[1;32m   2650\u001b[0m         resample=resample, url=url, **({\"data\": data} if data is not\n\u001b[0;32m-> 2651\u001b[0;31m         None else {}), **kwargs)\n\u001b[0m\u001b[1;32m   2652\u001b[0m     \u001b[0msci\u001b[0m\u001b[0;34m(\u001b[0m\u001b[0m__ret\u001b[0m\u001b[0;34m)\u001b[0m\u001b[0;34m\u001b[0m\u001b[0;34m\u001b[0m\u001b[0m\n\u001b[1;32m   2653\u001b[0m     \u001b[0;32mreturn\u001b[0m \u001b[0m__ret\u001b[0m\u001b[0;34m\u001b[0m\u001b[0;34m\u001b[0m\u001b[0m\n",
            "\u001b[0;32m/usr/local/lib/python3.6/dist-packages/matplotlib/__init__.py\u001b[0m in \u001b[0;36minner\u001b[0;34m(ax, data, *args, **kwargs)\u001b[0m\n\u001b[1;32m   1563\u001b[0m     \u001b[0;32mdef\u001b[0m \u001b[0minner\u001b[0m\u001b[0;34m(\u001b[0m\u001b[0max\u001b[0m\u001b[0;34m,\u001b[0m \u001b[0;34m*\u001b[0m\u001b[0margs\u001b[0m\u001b[0;34m,\u001b[0m \u001b[0mdata\u001b[0m\u001b[0;34m=\u001b[0m\u001b[0;32mNone\u001b[0m\u001b[0;34m,\u001b[0m \u001b[0;34m**\u001b[0m\u001b[0mkwargs\u001b[0m\u001b[0;34m)\u001b[0m\u001b[0;34m:\u001b[0m\u001b[0;34m\u001b[0m\u001b[0;34m\u001b[0m\u001b[0m\n\u001b[1;32m   1564\u001b[0m         \u001b[0;32mif\u001b[0m \u001b[0mdata\u001b[0m \u001b[0;32mis\u001b[0m \u001b[0;32mNone\u001b[0m\u001b[0;34m:\u001b[0m\u001b[0;34m\u001b[0m\u001b[0;34m\u001b[0m\u001b[0m\n\u001b[0;32m-> 1565\u001b[0;31m             \u001b[0;32mreturn\u001b[0m \u001b[0mfunc\u001b[0m\u001b[0;34m(\u001b[0m\u001b[0max\u001b[0m\u001b[0;34m,\u001b[0m \u001b[0;34m*\u001b[0m\u001b[0mmap\u001b[0m\u001b[0;34m(\u001b[0m\u001b[0msanitize_sequence\u001b[0m\u001b[0;34m,\u001b[0m \u001b[0margs\u001b[0m\u001b[0;34m)\u001b[0m\u001b[0;34m,\u001b[0m \u001b[0;34m**\u001b[0m\u001b[0mkwargs\u001b[0m\u001b[0;34m)\u001b[0m\u001b[0;34m\u001b[0m\u001b[0;34m\u001b[0m\u001b[0m\n\u001b[0m\u001b[1;32m   1566\u001b[0m \u001b[0;34m\u001b[0m\u001b[0m\n\u001b[1;32m   1567\u001b[0m         \u001b[0mbound\u001b[0m \u001b[0;34m=\u001b[0m \u001b[0mnew_sig\u001b[0m\u001b[0;34m.\u001b[0m\u001b[0mbind\u001b[0m\u001b[0;34m(\u001b[0m\u001b[0max\u001b[0m\u001b[0;34m,\u001b[0m \u001b[0;34m*\u001b[0m\u001b[0margs\u001b[0m\u001b[0;34m,\u001b[0m \u001b[0;34m**\u001b[0m\u001b[0mkwargs\u001b[0m\u001b[0;34m)\u001b[0m\u001b[0;34m\u001b[0m\u001b[0;34m\u001b[0m\u001b[0m\n",
            "\u001b[0;32m/usr/local/lib/python3.6/dist-packages/matplotlib/cbook/deprecation.py\u001b[0m in \u001b[0;36mwrapper\u001b[0;34m(*args, **kwargs)\u001b[0m\n\u001b[1;32m    356\u001b[0m                 \u001b[0;34mf\"%(removal)s.  If any parameter follows {name!r}, they \"\u001b[0m\u001b[0;34m\u001b[0m\u001b[0;34m\u001b[0m\u001b[0m\n\u001b[1;32m    357\u001b[0m                 f\"should be pass as keyword, not positionally.\")\n\u001b[0;32m--> 358\u001b[0;31m         \u001b[0;32mreturn\u001b[0m \u001b[0mfunc\u001b[0m\u001b[0;34m(\u001b[0m\u001b[0;34m*\u001b[0m\u001b[0margs\u001b[0m\u001b[0;34m,\u001b[0m \u001b[0;34m**\u001b[0m\u001b[0mkwargs\u001b[0m\u001b[0;34m)\u001b[0m\u001b[0;34m\u001b[0m\u001b[0;34m\u001b[0m\u001b[0m\n\u001b[0m\u001b[1;32m    359\u001b[0m \u001b[0;34m\u001b[0m\u001b[0m\n\u001b[1;32m    360\u001b[0m     \u001b[0;32mreturn\u001b[0m \u001b[0mwrapper\u001b[0m\u001b[0;34m\u001b[0m\u001b[0;34m\u001b[0m\u001b[0m\n",
            "\u001b[0;32m/usr/local/lib/python3.6/dist-packages/matplotlib/cbook/deprecation.py\u001b[0m in \u001b[0;36mwrapper\u001b[0;34m(*args, **kwargs)\u001b[0m\n\u001b[1;32m    356\u001b[0m                 \u001b[0;34mf\"%(removal)s.  If any parameter follows {name!r}, they \"\u001b[0m\u001b[0;34m\u001b[0m\u001b[0;34m\u001b[0m\u001b[0m\n\u001b[1;32m    357\u001b[0m                 f\"should be pass as keyword, not positionally.\")\n\u001b[0;32m--> 358\u001b[0;31m         \u001b[0;32mreturn\u001b[0m \u001b[0mfunc\u001b[0m\u001b[0;34m(\u001b[0m\u001b[0;34m*\u001b[0m\u001b[0margs\u001b[0m\u001b[0;34m,\u001b[0m \u001b[0;34m**\u001b[0m\u001b[0mkwargs\u001b[0m\u001b[0;34m)\u001b[0m\u001b[0;34m\u001b[0m\u001b[0;34m\u001b[0m\u001b[0m\n\u001b[0m\u001b[1;32m    359\u001b[0m \u001b[0;34m\u001b[0m\u001b[0m\n\u001b[1;32m    360\u001b[0m     \u001b[0;32mreturn\u001b[0m \u001b[0mwrapper\u001b[0m\u001b[0;34m\u001b[0m\u001b[0;34m\u001b[0m\u001b[0m\n",
            "\u001b[0;32m/usr/local/lib/python3.6/dist-packages/matplotlib/axes/_axes.py\u001b[0m in \u001b[0;36mimshow\u001b[0;34m(self, X, cmap, norm, aspect, interpolation, alpha, vmin, vmax, origin, extent, shape, filternorm, filterrad, imlim, resample, url, **kwargs)\u001b[0m\n\u001b[1;32m   5624\u001b[0m                               resample=resample, **kwargs)\n\u001b[1;32m   5625\u001b[0m \u001b[0;34m\u001b[0m\u001b[0m\n\u001b[0;32m-> 5626\u001b[0;31m         \u001b[0mim\u001b[0m\u001b[0;34m.\u001b[0m\u001b[0mset_data\u001b[0m\u001b[0;34m(\u001b[0m\u001b[0mX\u001b[0m\u001b[0;34m)\u001b[0m\u001b[0;34m\u001b[0m\u001b[0;34m\u001b[0m\u001b[0m\n\u001b[0m\u001b[1;32m   5627\u001b[0m         \u001b[0mim\u001b[0m\u001b[0;34m.\u001b[0m\u001b[0mset_alpha\u001b[0m\u001b[0;34m(\u001b[0m\u001b[0malpha\u001b[0m\u001b[0;34m)\u001b[0m\u001b[0;34m\u001b[0m\u001b[0;34m\u001b[0m\u001b[0m\n\u001b[1;32m   5628\u001b[0m         \u001b[0;32mif\u001b[0m \u001b[0mim\u001b[0m\u001b[0;34m.\u001b[0m\u001b[0mget_clip_path\u001b[0m\u001b[0;34m(\u001b[0m\u001b[0;34m)\u001b[0m \u001b[0;32mis\u001b[0m \u001b[0;32mNone\u001b[0m\u001b[0;34m:\u001b[0m\u001b[0;34m\u001b[0m\u001b[0;34m\u001b[0m\u001b[0m\n",
            "\u001b[0;32m/usr/local/lib/python3.6/dist-packages/matplotlib/image.py\u001b[0m in \u001b[0;36mset_data\u001b[0;34m(self, A)\u001b[0m\n\u001b[1;32m    692\u001b[0m                 not np.can_cast(self._A.dtype, float, \"same_kind\")):\n\u001b[1;32m    693\u001b[0m             raise TypeError(\"Image data of dtype {} cannot be converted to \"\n\u001b[0;32m--> 694\u001b[0;31m                             \"float\".format(self._A.dtype))\n\u001b[0m\u001b[1;32m    695\u001b[0m \u001b[0;34m\u001b[0m\u001b[0m\n\u001b[1;32m    696\u001b[0m         if not (self._A.ndim == 2\n",
            "\u001b[0;31mTypeError\u001b[0m: Image data of dtype <U41 cannot be converted to float"
          ]
        },
        {
          "output_type": "display_data",
          "data": {
            "image/png": "[encoded data removed]",
            "text/plain": [
              "<Figure size 432x288 with 1 Axes>"
            ]
          },
          "metadata": {
            "tags": [],
            "needs_background": "light"
          }
        }
      ]
    },
    {
      "cell_type": "code",
      "metadata": {
        "id": "mM7Kcc4Cr8Sq",
        "colab_type": "code",
        "colab": {}
      },
      "source": [
        "layer_output=[layer.output for layer in model.layers[ :9]]"
      ],
      "execution_count": null,
      "outputs": []
    },
    {
      "cell_type": "code",
      "metadata": {
        "id": "ZMyx-PVxr8Sr",
        "colab_type": "code",
        "colab": {}
      },
      "source": [
        "activation_model = models.Model(inputs=model.input, outputs=layer_output)"
      ],
      "execution_count": null,
      "outputs": []
    },
    {
      "cell_type": "code",
      "metadata": {
        "id": "9k5kwhPxr8Ss",
        "colab_type": "code",
        "colab": {}
      },
      "source": [
        "image=tf.expand_dims(image, 0)"
      ],
      "execution_count": null,
      "outputs": []
    },
    {
      "cell_type": "code",
      "metadata": {
        "id": "O9PpJvgwr8St",
        "colab_type": "code",
        "colab": {}
      },
      "source": [
        "image.shape"
      ],
      "execution_count": null,
      "outputs": []
    },
    {
      "cell_type": "code",
      "metadata": {
        "id": "0kDrDr2Ir8St",
        "colab_type": "code",
        "colab": {}
      },
      "source": [
        "activations = activation_model.predict(image)"
      ],
      "execution_count": null,
      "outputs": []
    },
    {
      "cell_type": "code",
      "metadata": {
        "id": "2TEAQfn1r8Su",
        "colab_type": "code",
        "colab": {}
      },
      "source": [
        "activations[0].shape"
      ],
      "execution_count": null,
      "outputs": []
    },
    {
      "cell_type": "code",
      "metadata": {
        "id": "h1F3gWior8Sv",
        "colab_type": "code",
        "colab": {}
      },
      "source": [
        "plt.matshow(activations[0][0,:,:,0], cmap=plt.cm.gray) #第1卷积层的第1特征层输出\n",
        "plt.matshow(activations[0][0,:,:,1], cmap=plt.cm.gray) #第1卷积层的第0特征层输出"
      ],
      "execution_count": null,
      "outputs": []
    },
    {
      "cell_type": "code",
      "metadata": {
        "id": "xd3BU5xw3hRk",
        "colab_type": "code",
        "colab": {}
      },
      "source": [
        "plt.matshow(activations[1][0,:,:,2], cmap=plt.cm.gray) #第1卷积层的第1特征层输出\n",
        "plt.matshow(activations[1][0,:,:,3], cmap=plt.cm.gray) #第1卷积层的第0特征层输出"
      ],
      "execution_count": null,
      "outputs": []
    },
    {
      "cell_type": "code",
      "metadata": {
        "id": "9hNbBgU2r8Sw",
        "colab_type": "code",
        "colab": {}
      },
      "source": [
        "plt.matshow(activations[2][0,:,:,0], cmap=plt.cm.gray) #第1卷积层的第1特征层输出\n",
        "plt.matshow(activations[2][0,:,:,1], cmap=plt.cm.gray) #第1卷积层的第0特征层输出\n",
        "plt.matshow(activations[2][0,:,:,2], cmap=plt.cm.gray) #第1卷积层的第1特征层输出\n",
        "plt.matshow(activations[2][0,:,:,3], cmap=plt.cm.gray) #第1卷积层的第0特征层输出\n",
        "plt.matshow(activations[2][0,:,:,4], cmap=plt.cm.gray) #第1卷积层的第1特征层输出\n",
        "plt.matshow(activations[2][0,:,:,5], cmap=plt.cm.gray) #第1卷积层的第0特征层输出\n",
        "plt.matshow(activations[2][0,:,:,6], cmap=plt.cm.gray) #第1卷积层的第1特征层输出\n",
        "plt.matshow(activations[2][0,:,:,7], cmap=plt.cm.gray) #第1卷积层的第0特征层输出"
      ],
      "execution_count": null,
      "outputs": []
    },
    {
      "cell_type": "code",
      "metadata": {
        "id": "4x1yva4q3Xfs",
        "colab_type": "code",
        "colab": {}
      },
      "source": [
        "plt.matshow(activations[4][0,:,:,0], cmap=plt.cm.gray) #第1卷积层的第1特征层输出\n",
        "plt.matshow(activations[4][0,:,:,1], cmap=plt.cm.gray) #第1卷积层的第0特征层输出\n",
        "plt.matshow(activations[4][0,:,:,2], cmap=plt.cm.gray) #第1卷积层的第1特征层输出\n",
        "plt.matshow(activations[4][0,:,:,3], cmap=plt.cm.gray) #第1卷积层的第0特征层输出\n",
        "plt.matshow(activations[4][0,:,:,4], cmap=plt.cm.gray) #第1卷积层的第1特征层输出\n",
        "plt.matshow(activations[4][0,:,:,5], cmap=plt.cm.gray) #第1卷积层的第0特征层输出\n",
        "plt.matshow(activations[4][0,:,:,6], cmap=plt.cm.gray) #第1卷积层的第1特征层输出\n",
        "plt.matshow(activations[4][0,:,:,7], cmap=plt.cm.gray) #第1卷积层的第0特征层输出\n",
        "plt.matshow(activations[4][0,:,:,8], cmap=plt.cm.gray) #第1卷积层的第1特征层输出\n",
        "plt.matshow(activations[4][0,:,:,9], cmap=plt.cm.gray) #第1卷积层的第0特征层输出\n",
        "plt.matshow(activations[4][0,:,:,10], cmap=plt.cm.gray) #第1卷积层的第1特征层输出\n",
        "plt.matshow(activations[4][0,:,:,11], cmap=plt.cm.gray) #第1卷积层的第0特征层输出\n",
        "plt.matshow(activations[4][0,:,:,12], cmap=plt.cm.gray) #第1卷积层的第1特征层输出\n",
        "plt.matshow(activations[4][0,:,:,13], cmap=plt.cm.gray) #第1卷积层的第0特征层输出\n",
        "plt.matshow(activations[4][0,:,:,14], cmap=plt.cm.gray) #第1卷积层的第1特征层输出\n",
        "plt.matshow(activations[4][0,:,:,15], cmap=plt.cm.gray) #第1卷积层的第0特征层输出"
      ],
      "execution_count": null,
      "outputs": []
    },
    {
      "cell_type": "code",
      "metadata": {
        "id": "0_7XGZKA3r21",
        "colab_type": "code",
        "colab": {}
      },
      "source": [
        "plt.matshow(activations[6][0,:,:,0], cmap=plt.cm.gray) #第1卷积层的第1特征层输出\n",
        "plt.matshow(activations[6][0,:,:,1], cmap=plt.cm.gray) #第1卷积层的第0特征层输出\n",
        "plt.matshow(activations[6][0,:,:,2], cmap=plt.cm.gray) #第1卷积层的第1特征层输出\n",
        "plt.matshow(activations[6][0,:,:,3], cmap=plt.cm.gray) #第1卷积层的第0特征层输出\n",
        "plt.matshow(activations[6][0,:,:,4], cmap=plt.cm.gray) #第1卷积层的第1特征层输出\n",
        "plt.matshow(activations[6][0,:,:,5], cmap=plt.cm.gray) #第1卷积层的第0特征层输出\n",
        "plt.matshow(activations[6][0,:,:,6], cmap=plt.cm.gray) #第1卷积层的第1特征层输出\n",
        "plt.matshow(activations[6][0,:,:,7], cmap=plt.cm.gray) #第1卷积层的第0特征层输出\n",
        "plt.matshow(activations[6][0,:,:,8], cmap=plt.cm.gray) #第1卷积层的第1特征层输出\n",
        "plt.matshow(activations[6][0,:,:,9], cmap=plt.cm.gray) #第1卷积层的第0特征层输出\n",
        "plt.matshow(activations[6][0,:,:,10], cmap=plt.cm.gray) #第1卷积层的第1特征层输出\n",
        "plt.matshow(activations[6][0,:,:,11], cmap=plt.cm.gray) #第1卷积层的第0特征层输出\n",
        "plt.matshow(activations[6][0,:,:,12], cmap=plt.cm.gray) #第1卷积层的第1特征层输出\n",
        "plt.matshow(activations[6][0,:,:,13], cmap=plt.cm.gray) #第1卷积层的第0特征层输出\n",
        "plt.matshow(activations[6][0,:,:,14], cmap=plt.cm.gray) #第1卷积层的第1特征层输出\n",
        "plt.matshow(activations[6][0,:,:,15], cmap=plt.cm.gray) #第1卷积层的第0特征层输出"
      ],
      "execution_count": null,
      "outputs": []
    },
    {
      "cell_type": "code",
      "metadata": {
        "id": "Tb6bgI5D4BEM",
        "colab_type": "code",
        "colab": {}
      },
      "source": [
        "plt.matshow(activations[8][0,:,:,0], cmap=plt.cm.gray) #第1卷积层的第1特征层输出\n",
        "plt.matshow(activations[8][0,:,:,1], cmap=plt.cm.gray) #第1卷积层的第0特征层输出\n",
        "plt.matshow(activations[8][0,:,:,2], cmap=plt.cm.gray) #第1卷积层的第1特征层输出\n",
        "plt.matshow(activations[8][0,:,:,3], cmap=plt.cm.gray) #第1卷积层的第0特征层输出\n",
        "plt.matshow(activations[8][0,:,:,4], cmap=plt.cm.gray) #第1卷积层的第1特征层输出\n",
        "plt.matshow(activations[8][0,:,:,5], cmap=plt.cm.gray) #第1卷积层的第0特征层输出\n",
        "plt.matshow(activations[8][0,:,:,6], cmap=plt.cm.gray) #第1卷积层的第1特征层输出\n",
        "plt.matshow(activations[8][0,:,:,7], cmap=plt.cm.gray) #第1卷积层的第0特征层输出\n",
        "plt.matshow(activations[8][0,:,:,8], cmap=plt.cm.gray) #第1卷积层的第1特征层输出\n",
        "plt.matshow(activations[8][0,:,:,9], cmap=plt.cm.gray) #第1卷积层的第0特征层输出\n",
        "plt.matshow(activations[8][0,:,:,10], cmap=plt.cm.gray) #第1卷积层的第1特征层输出\n",
        "plt.matshow(activations[8][0,:,:,11], cmap=plt.cm.gray) #第1卷积层的第0特征层输出\n",
        "plt.matshow(activations[8][0,:,:,12], cmap=plt.cm.gray) #第1卷积层的第1特征层输出\n",
        "plt.matshow(activations[8][0,:,:,13], cmap=plt.cm.gray) #第1卷积层的第0特征层输出\n",
        "plt.matshow(activations[8][0,:,:,14], cmap=plt.cm.gray) #第1卷积层的第1特征层输出\n",
        "plt.matshow(activations[8][0,:,:,15], cmap=plt.cm.gray) #第1卷积层的第0特征层输出"
      ],
      "execution_count": null,
      "outputs": []
    },
    {
      "cell_type": "code",
      "metadata": {
        "id": "fV6xKiIEY2Dh",
        "colab_type": "code",
        "colab": {}
      },
      "source": [
        ""
      ],
      "execution_count": null,
      "outputs": []
    }
  ]
}